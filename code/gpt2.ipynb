{
 "cells": [
  {
   "cell_type": "code",
   "execution_count": 1,
   "metadata": {},
   "outputs": [],
   "source": [
    "# !pip install -q gpt-2-simple --user\n",
    "import gpt_2_simple as gpt2\n",
    "# from datetime import datetime\n",
    "# import os\n",
    "# import pandas as pd"
   ]
  },
  {
   "cell_type": "code",
   "execution_count": 2,
   "metadata": {},
   "outputs": [],
   "source": [
    "model_name = '124M'\n",
    "# if not os.path.isdir(os.path.join(\"models\", model_name)):\n",
    "#     gpt2.download_gpt2(model_name=\"124M\")"
   ]
  },
  {
   "cell_type": "code",
   "execution_count": 3,
   "metadata": {},
   "outputs": [],
   "source": [
    "# Read in data\n",
    "# corpus = pd.read_csv('data/corpus.csv')\n",
    "# corpus = corpus.rename(columns = {'Unnamed: 0':'president'})\n",
    "\n",
    "# create text file for each president from dataset\n",
    "# for i in range(len(corpus)):\n",
    "#     row = corpus.loc[i]\n",
    "#     president = row['president'].split()[-1]\n",
    "#     text = row['transcripts']\n",
    "#     text_file = open('data/' + str(i) + '. ' + president + \".txt\", \"w\")\n",
    "#     n = text_file.write(text)\n",
    "#     text_file.close()"
   ]
  },
  {
   "cell_type": "code",
   "execution_count": 4,
   "metadata": {},
   "outputs": [],
   "source": [
    "# List of presidents to examine\n",
    "# notables = ['0. Washington.txt', '2. Jefferson.txt', '6. Jackson.txt', '15. Lincoln.txt', \n",
    "#  '24. Roosevelt.txt', '30. Roosevelt.txt', '33. Kennedy.txt', '35. Nixon.txt', '38. Reagan.txt',\n",
    "#  '40. Clinton.txt', '41. Bush.txt'\n",
    "# ]"
   ]
  },
  {
   "cell_type": "code",
   "execution_count": 5,
   "metadata": {},
   "outputs": [],
   "source": [
    "# # Train model for each president\n",
    "# sess = gpt2.start_tf_sess()\n",
    "# # MAKE SURE TO CHANGE RUN NAME TO AVOID OVERWRITING CHECKPOINTS\n",
    "# gpt2.finetune(sess,\n",
    "#               'data/debates.txt',\n",
    "#               model_name=model_name,\n",
    "#               run_name = 'debates',\n",
    "#               steps=750)   # steps is max number of training steps"
   ]
  },
  {
   "cell_type": "code",
   "execution_count": 6,
   "metadata": {
    "scrolled": false
   },
   "outputs": [
    {
     "name": "stdout",
     "output_type": "stream",
     "text": [
      "Loading checkpoint checkpoint/Lincoln/model-750\n",
      "WARNING:tensorflow:From /opt/conda/lib/python3.7/site-packages/tensorflow/python/training/saver.py:1276: checkpoint_exists (from tensorflow.python.training.checkpoint_management) is deprecated and will be removed in a future version.\n",
      "Instructions for updating:\n",
      "Use standard file APIs to check for files with this prefix.\n",
      "INFO:tensorflow:Restoring parameters from checkpoint/Lincoln/model-750\n",
      "Fourscore and seven years ago our fathers brought forth on this continent, a new nation, conceived in Liberty, and dedicated to the proposition that all men are created equal. Now we are engaged in a great civil war, testing whether that nation, or any nation so conceived and so dedicated, can long endure. We are met on a great battle-field of that war. We have come to dedicate a portion of that field, as a final resting place for those who here gave their lives that that nation might live. It is altogether fitting and proper that we should do this. But, in a larger sense, we can not dedicate, we can not hallow, this ground. The brave men, living and dead, who struggled here, have consecrated it, far above our poor power to add or detract. The world will little note, nor long remember what we say here, but it can never forget what they did here. It is for us the living, rather, to be dedicated here to the unfinished work which they who fought here have thus far so nobly advanced. It is rather for us to be here dedicated to the great task remaining to be ' reinscribed in the Constitution, that we here announce our determination to have slavery abolished in the District of Columbia. Here, then, the great body of the people shall have weighed all the evidence, and declared that slavery was wrong; and that none of them\n"
     ]
    }
   ],
   "source": [
    "with open('gettysburg.txt') as filename:\n",
    "    pre_text = filename.read()\n",
    "    \n",
    "# Generate from specific run\n",
    "sess = gpt2.start_tf_sess()\n",
    "gpt2.load_gpt2(sess, run_name = 'Lincoln')\n",
    "gpt2.generate(sess, length = 170, prefix = pre_text, include_prefix = False)"
   ]
  },
  {
   "cell_type": "code",
   "execution_count": null,
   "metadata": {},
   "outputs": [],
   "source": []
  },
  {
   "cell_type": "code",
   "execution_count": null,
   "metadata": {},
   "outputs": [],
   "source": []
  },
  {
   "cell_type": "code",
   "execution_count": null,
   "metadata": {},
   "outputs": [],
   "source": []
  }
 ],
 "metadata": {
  "kernelspec": {
   "display_name": "Python 3",
   "language": "python",
   "name": "python3"
  },
  "language_info": {
   "codemirror_mode": {
    "name": "ipython",
    "version": 3
   },
   "file_extension": ".py",
   "mimetype": "text/x-python",
   "name": "python",
   "nbconvert_exporter": "python",
   "pygments_lexer": "ipython3",
   "version": "3.7.3"
  }
 },
 "nbformat": 4,
 "nbformat_minor": 2
}
