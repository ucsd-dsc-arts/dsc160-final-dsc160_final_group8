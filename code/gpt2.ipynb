{
 "cells": [
  {
   "cell_type": "code",
   "execution_count": 1,
   "metadata": {},
   "outputs": [],
   "source": [
    "!pip install -q gpt-2-simple --user\n",
    "import gpt_2_simple as gpt2\n",
    "from datetime import datetime\n",
    "import os\n",
    "import pandas as pd"
   ]
  },
  {
   "cell_type": "code",
   "execution_count": 2,
   "metadata": {},
   "outputs": [],
   "source": [
    "model_name = '124M'\n",
    "if not os.path.isdir(os.path.join(\"models\", model_name)):\n",
    "    gpt2.download_gpt2(model_name=\"124M\")"
   ]
  },
  {
   "cell_type": "code",
   "execution_count": 4,
   "metadata": {},
   "outputs": [],
   "source": [
    "# Read in data\n",
    "# corpus = pd.read_csv('data/corpus.csv')\n",
    "# corpus = corpus.rename(columns = {'Unnamed: 0':'president'})\n",
    "\n",
    "# create text file for each president from dataset\n",
    "# for i in range(len(corpus)):\n",
    "#     row = corpus.loc[i]\n",
    "#     president = row['president'].split()[-1]\n",
    "#     text = row['transcripts']\n",
    "#     text_file = open('data/' + str(i) + '. ' + president + \".txt\", \"w\")\n",
    "#     n = text_file.write(text)\n",
    "#     text_file.close()"
   ]
  },
  {
   "cell_type": "code",
   "execution_count": 5,
   "metadata": {},
   "outputs": [],
   "source": [
    "# List of presidents to examine\n",
    "# notables = ['0. Washington.txt', '2. Jefferson.txt', '6. Jackson.txt', '15. Lincoln.txt', \n",
    "#  '24. Roosevelt.txt', '30. Roosevelt.txt', '33. Kennedy.txt', '35. Nixon.txt', '38. Reagan.txt',\n",
    "#  '40. Clinton.txt', '41. Bush.txt'\n",
    "# ]"
   ]
  },
  {
   "cell_type": "code",
   "execution_count": 6,
   "metadata": {},
   "outputs": [],
   "source": [
    "# Train model for each president\n",
    "# sess = gpt2.start_tf_sess()\n",
    "# MAKE SURE TO CHANGE RUN NAME TO AVOID OVERWRITING CHECKPOINTS\n",
    "# gpt2.finetune(sess,\n",
    "#               'data/41. Bush.txt',\n",
    "#               model_name=model_name,\n",
    "#               run_name = 'Bush II',\n",
    "#               steps=750)   # steps is max number of training steps"
   ]
  },
  {
   "cell_type": "code",
   "execution_count": 7,
   "metadata": {
    "scrolled": false
   },
   "outputs": [
    {
     "name": "stdout",
     "output_type": "stream",
     "text": [
      "Loading checkpoint checkpoint/Lincoln/model-750\n",
      "WARNING:tensorflow:From /opt/conda/lib/python3.7/site-packages/tensorflow/python/training/saver.py:1276: checkpoint_exists (from tensorflow.python.training.checkpoint_management) is deprecated and will be removed in a future version.\n",
      "Instructions for updating:\n",
      "Use standard file APIs to check for files with this prefix.\n",
      "INFO:tensorflow:Restoring parameters from checkpoint/Lincoln/model-750\n",
      "One of the dispositions that led to the organization and admission into the Union of the States of Minnesota and of Wisconsin, and that is the use them in forming the Constitution, was the expediency of expediting the definitive ratification of the treaties by the whole nation at an early date, while still a small but important question, as to the amount of slavery within these States, was still remaining undiscovered. While the public and foreign press were still swimming with the early history of the Federal Republic, a proposed amendment to the Constitution, which was pending its presentation to the Senate, was temporarily silenced by the action of a vote of the Senate. This act of Congress, however, did not, on the first day of January, 1854, be premature. It was possible, in the opinion of the President, to have the act of Congress at the same session, and pass it without the consent of the Senate, for obvious reasons. It was also possible to have it at least twice, in the House of Representatives and the Senate, without the consent of the House. While the public was thus far off, and while the act of Congress was still a year in coming, and the Senate still holding their session only a few days later, the attention of the public was not altogether lost. A bill was proposed to the Senate which would have suspended the tax upon the incomes of foreign consuls in this country for a further year. The proposed suspension of the tax was opposed by a large majority of the Senate, and yet not without some added vigor, as a measure to keep the insurrectionary force out of the country. This bill, however, failed of passing both branches of Congress, and was again rejected for suspension. This bill contained no repeal of the Missouri Compromise. It also contained no repeal of the Utah and New Mexico reciprocity acts. All these were repeals of the former, or at the very least, partial negations of the former. In this bill was given the sanction of law, while in his opposition to the latter act of Congress, he was supported by a larger majority, the Senate's 285. The Senate, however, resisted the bill till it was felled in the war by the success of the second act of the President's second inaugural, in his address before the American Colonization Society. The second act of the President's second inaugural declared the insurrection control of Texas, and made a provision for a free acquiring country. The third act of Congress, however, declared the insurrection control of New Mexico, and made a territorial organization. These acts were identical in all, except Texas. The fourth and fifth Centuries reported periods, and we shall get more than fifty years of recorded history in these fields, are each worth its fair share of bloodshed and destruction. These acts and the subsequent policy are the product of these acts and their progeny. The suppression of the insurrection was the responsibility of the Federal Government; and the accomplishment of its object, at the same time as a great national crisis, was also upon its line. At the expiration of four years the Government garrisoned Fort Sumter, and then established a garrison in Sherman's country, about a mile distant. We were three times as populous as Fort Pickens was at the beginning of the previous year; and yet without a garrison there would have been enough force to contain the insurrection. It was in this same Fort that the Federal officers of the Federal Army and Navy met for the first time in the second season of the drama. It was June last, and there the Federal officers of the Federal Army and Navy had skirmishes wherein the Federal officers, with the Union weapons, were held back by the very officers themselves. It was this sort of contest, with the Federal officers holding the Federal weapons in their hands, that gave rise to the idea of putting an equal emphasis on the right of the Federal officers to disarm the Federal officers, and the Federal officers holding the Federal weapons in their hands, that gave rise to the idea of a general idea of self government. This sort of contest was all over. When, therefore, to form a new Government, the National Constitution was discarded as being impracticable; and, as was known, it was left open for the purpose of forming a constitution. The public mind was moved, at least during the preceding year, by the vivid impression that a constitution was required, in case the Federal Government should, in future, hold the State together. The meeting of the new Government, therefore, was hastily made, to avoid the disadvantage of the existing one. A vacancy was filled in the Secretary of the Interior, by a vote of the public, in December last. The vacancy, however, could not be filled before the next election, because, until that election, the country was not full of Republicans. Since that election, however, the public mind has been more than willing to listen to his advice, or his suggestion, than his own. His suggestions, therefore, have been the object of much interest, and, in turn, his services as Secretary of the\n"
     ]
    }
   ],
   "source": [
    "# Generate from specific run\n",
    "sess = gpt2.start_tf_sess()\n",
    "gpt2.load_gpt2(sess, run_name = 'Lincoln')\n",
    "gpt2.generate(sess)"
   ]
  },
  {
   "cell_type": "code",
   "execution_count": null,
   "metadata": {},
   "outputs": [],
   "source": []
  },
  {
   "cell_type": "code",
   "execution_count": null,
   "metadata": {},
   "outputs": [],
   "source": []
  },
  {
   "cell_type": "code",
   "execution_count": null,
   "metadata": {},
   "outputs": [],
   "source": []
  }
 ],
 "metadata": {
  "kernelspec": {
   "display_name": "Python 3",
   "language": "python",
   "name": "python3"
  },
  "language_info": {
   "codemirror_mode": {
    "name": "ipython",
    "version": 3
   },
   "file_extension": ".py",
   "mimetype": "text/x-python",
   "name": "python",
   "nbconvert_exporter": "python",
   "pygments_lexer": "ipython3",
   "version": "3.7.3"
  }
 },
 "nbformat": 4,
 "nbformat_minor": 2
}
