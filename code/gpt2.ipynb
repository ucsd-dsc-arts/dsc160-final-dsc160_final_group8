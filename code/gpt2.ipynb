{
 "cells": [
  {
   "cell_type": "code",
   "execution_count": 1,
   "metadata": {},
   "outputs": [],
   "source": [
    "# !pip install -q gpt-2-simple --user\n",
    "import gpt_2_simple as gpt2\n",
    "# from datetime import datetime\n",
    "# import os\n",
    "# import pandas as pd"
   ]
  },
  {
   "cell_type": "code",
   "execution_count": 2,
   "metadata": {},
   "outputs": [],
   "source": [
    "model_name = '124M'\n",
    "# if not os.path.isdir(os.path.join(\"models\", model_name)):\n",
    "#     gpt2.download_gpt2(model_name=\"124M\")"
   ]
  },
  {
   "cell_type": "code",
   "execution_count": 3,
   "metadata": {},
   "outputs": [],
   "source": [
    "# Read in data\n",
    "# corpus = pd.read_csv('data/corpus.csv')\n",
    "# corpus = corpus.rename(columns = {'Unnamed: 0':'president'})\n",
    "\n",
    "# create text file for each president from dataset\n",
    "# for i in range(len(corpus)):\n",
    "#     row = corpus.loc[i]\n",
    "#     president = row['president'].split()[-1]\n",
    "#     text = row['transcripts']\n",
    "#     text_file = open('data/' + str(i) + '. ' + president + \".txt\", \"w\")\n",
    "#     n = text_file.write(text)\n",
    "#     text_file.close()"
   ]
  },
  {
   "cell_type": "code",
   "execution_count": 4,
   "metadata": {},
   "outputs": [],
   "source": [
    "# List of presidents to examine\n",
    "# notables = ['0. Washington.txt', '2. Jefferson.txt', '6. Jackson.txt', '15. Lincoln.txt', \n",
    "#  '24. Roosevelt.txt', '30. Roosevelt.txt', '33. Kennedy.txt', '35. Nixon.txt', '38. Reagan.txt',\n",
    "#  '40. Clinton.txt', '41. Bush.txt'\n",
    "# ]"
   ]
  },
  {
   "cell_type": "code",
   "execution_count": 5,
   "metadata": {},
   "outputs": [],
   "source": [
    "# # Train model for each president\n",
    "# sess = gpt2.start_tf_sess()\n",
    "# # MAKE SURE TO CHANGE RUN NAME TO AVOID OVERWRITING CHECKPOINTS\n",
    "# gpt2.finetune(sess,\n",
    "#               'data/15. Lincoln.txt',\n",
    "#               model_name=model_name,\n",
    "#               run_name = 'Lincoln',\n",
    "#               steps=750) "
   ]
  },
  {
   "cell_type": "code",
   "execution_count": 8,
   "metadata": {
    "scrolled": false
   },
   "outputs": [
    {
     "data": {
      "text/plain": [
       "\"My fellow Americans, I’ve experienced how much a nation can depend on one person. Every town depends; and every people is liable to experience a loss if its citizens do not act in a spirit of service to the community. It would be a denial of opportunities of action consequent on the miseries in which they are practiced. It would be the diminution of what is useful in common with what is lost by my countrymen. The result would be horror and distress to every part of our community. The complaints of our citizens, which usually run in the same direction from town to town, would be louder and more voluble than the cause. Taking their concerns into consideration, would that the Government be less injurious to their troubles than to ours? I can answer these questions all: No. On the contrary: Government is more effective at increasing Liberty, than it is at degrading it. We have learned how fundamentally the lesson of World War is that when two or three hundred million of our people have been deprived of the opportunity to enjoy the fruits of their labor and starve, we are unwilling to give them the opportunity to do their work. If this be the case, how can we maintain a peaceful resolution in the struggle which is now going on between Labor and the individual wage-worker, who is in large part a member of the so-called good wage class, and whose name is getting attention from the press and the popular press? How can we increase the mobility of teachers and engineers and doctors and nurses and people on the poverty line, and encourage them to expand their careers and find a better life elsewhere in America? How can we help those who are failing to get by in a recession or a recession in a good way? These are not difficult questions to answer. These are questions that can be answered. And I think I can best answer them by showing you how. Over the past twenty years, since I first came to this Capital as a freshman Congressman, I have visited most of the nations of the world. And I've gotten to know a lot more people here, more people who are living in this same land. You've seen a different kind of land, a different kind of America. And I think this is something that rainfall or any other natural phenomenon, economic or political, can play a part in. This American experience, this American result, has brought us both prosperity and depression. And we both know that. But now we're in a time of great change and opportunity, and we must decide whether we are on the verge of realizing the American dream or a return to recession and destruction. In the end, the best way to protect the American people is to keep the American economy growing and productive, and we are doing that. Keeping America competitive begins with keeping our economy growing. And our economy grows when Americans have more of their own money to spend, and invest, and spend it more. It's why we've seen a return to the top in terms of innovation and scholarship and opportunity. It's why we've seen global trade and commerce that is beneficial to our country and our economy. It's why we've seen the resiliency of nations that have come to depend on commerce with their neighbors and the world. So let's do us both good and let's do it together. Let's make America great again. Let's rediscover America's greatness and shine it on the world. Let's replace America's failures on the battlefield with greatness and pride and virtue and goodness and freedom. Let's learn from these mistakes, and let's make America great again. Thank you very much everybody at the forum. Thank you.\""
      ]
     },
     "execution_count": 8,
     "metadata": {},
     "output_type": "execute_result"
    }
   ],
   "source": [
    "with open('data/speech.txt') as filename:\n",
    "    pre_text = filename.read()\n",
    "    \n",
    "# Generate from specific run\n",
    "# sess = gpt2.start_tf_sess()\n",
    "# gpt2.load_gpt2(sess, run_name = 'Trump')\n",
    "# gpt2.generate(sess, length = 70, prefix = pre_text, include_prefix = False)\n",
    "\n",
    "pre_text"
   ]
  },
  {
   "cell_type": "code",
   "execution_count": null,
   "metadata": {},
   "outputs": [],
   "source": []
  },
  {
   "cell_type": "code",
   "execution_count": null,
   "metadata": {},
   "outputs": [],
   "source": []
  },
  {
   "cell_type": "code",
   "execution_count": null,
   "metadata": {},
   "outputs": [],
   "source": []
  }
 ],
 "metadata": {
  "kernelspec": {
   "display_name": "Python 3",
   "language": "python",
   "name": "python3"
  },
  "language_info": {
   "codemirror_mode": {
    "name": "ipython",
    "version": 3
   },
   "file_extension": ".py",
   "mimetype": "text/x-python",
   "name": "python",
   "nbconvert_exporter": "python",
   "pygments_lexer": "ipython3",
   "version": "3.7.3"
  }
 },
 "nbformat": 4,
 "nbformat_minor": 2
}
